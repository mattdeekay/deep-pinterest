{
 "cells": [
  {
   "cell_type": "code",
   "execution_count": 4,
   "metadata": {
    "collapsed": true
   },
   "outputs": [],
   "source": [
    "from minePinData import pinterest_request\n",
    "import requests"
   ]
  },
  {
   "cell_type": "code",
   "execution_count": 5,
   "metadata": {
    "collapsed": false
   },
   "outputs": [
    {
     "name": "stdout",
     "output_type": "stream",
     "text": [
      "['1327992104', '4137435', '5430756']\n",
      "['1314744233', '5596465', '8489243']\n",
      "['1401475376', '7739698', '16990978']\n",
      "['1369404330', '8953171', '6449238']\n",
      "['1320171256', '9392192', '6449238']\n",
      "['1325000731', '5702162', '6449238']\n",
      "['1362804856', '11210275', '6449238']\n",
      "['1417481483', '1266794', '6449238']\n",
      "['1322795631', '1333637', '6449238']\n",
      "['1319146920', '4904802', '6449238']\n",
      "['1360293356', '7024023', '6449238']\n",
      "['1416871344', '7099534', '6449238']\n",
      "['1402967942', '1478232', '6449238']\n",
      "['1320865211', '7002473', '6449238']\n",
      "['1319653580', '7088780', '6449238']\n",
      "['1336016230', '6989851', '6449238']\n",
      "['1361551859', '9301897', '6449238']\n",
      "['1378605343', '8739840', '6449238']\n",
      "['1379779062', '8748894', '6449238']\n",
      "['1415477018', '11017859', '6449238']\n",
      "['1332536237', '7355229', '6449238']\n",
      "['1318661203', '7389700', '6449238']\n",
      "['1319446262', '1695972', '6449238']\n",
      "['1331311125', '1683877', '6449238']\n",
      "['1398951758', '7403639', '6449238']\n",
      "['1319049419', '1791966', '6449238']\n",
      "['1348111533', '5192103', '6449238']\n",
      "['1335060795', '1890647', '6449238']\n",
      "['1318876687', '1990372', '6449238']\n",
      "['1318876709', '1990372', '6449238']\n",
      "['1320194648', '6349015', '6449238']\n",
      "['1346900922', '6234008', '6449238']\n",
      "['1319619353', '1895143', '6449238']\n",
      "['1346900910', '6234008', '6449238']\n",
      "['1342054897', '1844022', '6449238']\n",
      "['1319486971', '1875891', '6449238']\n",
      "['1347334157', '6235888', '6449238']\n",
      "['1346207282', '1940037', '6449238']\n",
      "['1382410414', '1985586', '6449238']\n",
      "['1341798091', '1850415', '6449238']\n",
      "['1320778654', '1875891', '6449238']\n",
      "['1318672300', '1953766', '6449238']\n",
      "['1415605175', '602625', '6449238']\n",
      "['1391792874', '5571255', '6449238']\n",
      "['1360112246', '11500299', '6449238']\n",
      "['1400205456', '895204', '6449238']\n",
      "['1377816082', '748029', '6449238']\n",
      "['1401726550', '11387097', '6449238']\n",
      "['1346877292', '11441126', '6449238']\n",
      "['1320428473', '1667813', '6449238']\n",
      "['1344717611', '7258645', '6449238']\n",
      "['1332031311', '1521710', '6449238']\n",
      "['1339274796', '7160224', '6449238']\n",
      "['1352997378', '7197340', '6449238']\n",
      "['1343829887', '1667366', '6449238']\n",
      "['1319200367', '1525592', '6449238']\n",
      "['1358306778', '1670965', '6449238']\n",
      "['1318771130', '7135829', '6449238']\n",
      "['1315847497', '2009626', '6449238']\n",
      "['1340404953', '6377539', '6449238']\n",
      "['1354061427', '1044602', '6449238']\n",
      "['1399065535', '1144235', '6449238']\n",
      "['1370790200', '11793847', '6449238']\n",
      "['1400029312', '1078687', '6449238']\n",
      "['1407197113', '11670680', '6449238']\n",
      "['1400615230', '11612540', '6449238']\n",
      "['1412055872', '1005737', '6449238']\n",
      "['1407034702', '11740504', '6449238']\n",
      "['1391912223', '8250022', '6449238']\n",
      "['1362852220', '8196704', '6449238']\n",
      "['1346425042', '11820634', '6449238']\n",
      "['1379520147', '6801088', '6449238']\n",
      "['1360725698', '2278036', '6449238']\n",
      "['1398815294', '3369643', '6449238']\n",
      "['1399294159', '9247617', '6449238']\n",
      "['1403290219', '3588439', '6449238']\n",
      "['1399216895', '9042759', '6449238']\n",
      "['1375644097', '9157365', '6449238']\n",
      "['1377799382', '10663470', '6449238']\n",
      "['1399056222', '9025887', '6449238']\n",
      "['1361719328', '11473190', '6449238']\n",
      "['1372798450', '11420957', '6449238']\n",
      "['1401349187', '11392049', '6449238']\n",
      "['1406601808', '11428742', '6449238']\n",
      "['1368669065', '11612473', '6449238']\n",
      "['1373058351', '929439', '6449238']\n",
      "['1340225759', '12272827', '6449238']\n",
      "['1363786579', '10419104', '6449238']\n",
      "['1386305131', '12334742', '6449238']\n",
      "['1326951444', '10378399', '6449238']\n",
      "['1318615349', '12295528', '6449238']\n",
      "['1341987362', '10532453', '6449238']\n",
      "['1348009774', '8632496', '6449238']\n",
      "['1394064091', '8819182', '6449238']\n",
      "['1332085171', '2814738', '6449238']\n",
      "['1345336924', '7793708', '6449238']\n",
      "['1350332408', '2682643', '6449238']\n",
      "['1346900110', '7702915', '6449238']\n",
      "['1338114737', '7714460', '6449238']\n",
      "['1319130013', '7819351', '6449238']\n"
     ]
    }
   ],
   "source": [
    "#board_id, board_name, board_description, user_id, board_create_time\n",
    "with open(\"./Datasets/pinterest_data/boards.tsv\") as f:\n",
    "    for i, line in enumerate(f):\n",
    "        if i == 100: break\n",
    "#         print line.strip(\"\\n\").split(\"\\t\")\n",
    "\n",
    "#pin_create_time, board_id, pin_id\n",
    "with open(\"./Datasets/pinterest_data/pins.tsv\") as f:\n",
    "    for i, line in enumerate(f):\n",
    "        if i == 100: break\n",
    "        print line.strip(\"\\n\").split(\"\\t\")\n",
    "    "
   ]
  },
  {
   "cell_type": "code",
   "execution_count": 6,
   "metadata": {
    "collapsed": true
   },
   "outputs": [],
   "source": [
    "TOKEN_FILE = \"api_token.txt\"\n",
    "MAX_PINS = 25 #maximum number of pins that can be returned by the API"
   ]
  },
  {
   "cell_type": "code",
   "execution_count": 15,
   "metadata": {
    "collapsed": false
   },
   "outputs": [],
   "source": [
    "class modPinterest(pinterest_request):\n",
    "#gets the API token\n",
    "    def getToken(self):\n",
    "        with open(TOKEN_FILE, \"rb\") as f:\n",
    "            for line in f: \n",
    "                self.api_token = line\n",
    "                print \"line is: \", line\n",
    "                return\n",
    "    \n",
    "    def makeRequest_pins(self, board_id, params = {}):\n",
    "        print self.api_token\n",
    "        params[\"access_token\"] = self.api_token\n",
    "        params[\"cursor\"] = None\n",
    "        params[\"limit\"] = MAX_PINS\n",
    "        params[\"fields\"] = [\"image\", \"id\"]\n",
    "\n",
    "        url = \"%s%s%s%s\" %(self.base_url, self.boardExtension, board_id + \"/\", self.pinExtension)\n",
    "        \n",
    "        #a list of the responses from the board pins\n",
    "        responseList = [] \n",
    "        hasNextPins = True\n",
    "        try:\n",
    "            while hasNextPins:\n",
    "                print url, params\n",
    "                response = requests.get(url, params = params)\n",
    "\n",
    "                #there was a 404 error\n",
    "                print response\n",
    "                if response.status_code == 404:\n",
    "                    print \"FUCK\"\n",
    "                    return True, responseList\n",
    "\n",
    "                json_response = response.json()\n",
    "                #adding pins and metadata to a list that will be returned\n",
    "                responseList.append(json_response)\n",
    "                print json_response\n",
    "                break\n",
    "#                 hasNextPins = json_response[\"page\"][\"next\"] is not None\n",
    "#                 url = json_response[\"page\"][\"next\"]\n",
    "\n",
    "            return True, responseList\n",
    "\n",
    "        except requests.exceptions.RequestException as e:\n",
    "            return False, None "
   ]
  },
  {
   "cell_type": "code",
   "execution_count": 16,
   "metadata": {
    "collapsed": false
   },
   "outputs": [
    {
     "name": "stdout",
     "output_type": "stream",
     "text": [
      "9392192\n",
      "line is:  ATYtcX6L94UxJublnh0kUzjGIDyiFPS1zY677l1EYALNTaAz1QAAAAA\n",
      "\n"
     ]
    }
   ],
   "source": [
    "test_board_id = str(9392192)\n",
    "print test_board_id\n",
    "miner = modPinterest()"
   ]
  },
  {
   "cell_type": "code",
   "execution_count": 17,
   "metadata": {
    "collapsed": false
   },
   "outputs": [
    {
     "name": "stdout",
     "output_type": "stream",
     "text": [
      "ATYtcX6L94UxJublnh0kUzjGIDyiFPS1zY677l1EYALNTaAz1QAAAAA\n",
      "\n",
      "https://api.pinterest.com/v1/boards/9392192/pins {'access_token': 'ATYtcX6L94UxJublnh0kUzjGIDyiFPS1zY677l1EYALNTaAz1QAAAAA\\n', 'cursor': None, 'limit': 25, 'fields': ['image', 'id']}\n",
      "<Response [401]>\n",
      "{u'status': u'failure', u'message': u'Authorization failed.', u'code': 3, u'data': None}\n"
     ]
    },
    {
     "data": {
      "text/plain": [
       "(True,\n",
       " [{u'code': 3,\n",
       "   u'data': None,\n",
       "   u'message': u'Authorization failed.',\n",
       "   u'status': u'failure'}])"
      ]
     },
     "execution_count": 17,
     "metadata": {},
     "output_type": "execute_result"
    }
   ],
   "source": [
    "miner.makeRequest_pins(test_board_id)"
   ]
  },
  {
   "cell_type": "code",
   "execution_count": null,
   "metadata": {
    "collapsed": true
   },
   "outputs": [],
   "source": []
  }
 ],
 "metadata": {
  "kernelspec": {
   "display_name": "Python 2",
   "language": "python",
   "name": "python2"
  }
 },
 "nbformat": 4,
 "nbformat_minor": 2
}
